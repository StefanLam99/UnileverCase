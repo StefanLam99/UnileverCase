{
 "cells": [
  {
   "cell_type": "code",
   "execution_count": 5,
   "metadata": {},
   "outputs": [],
   "source": [
    "import pandas as pd\n",
    "import numpy as np"
   ]
  },
  {
   "cell_type": "code",
   "execution_count": 6,
   "metadata": {},
   "outputs": [
    {
     "data": {
      "text/html": [
       "<div>\n",
       "<style scoped>\n",
       "    .dataframe tbody tr th:only-of-type {\n",
       "        vertical-align: middle;\n",
       "    }\n",
       "\n",
       "    .dataframe tbody tr th {\n",
       "        vertical-align: top;\n",
       "    }\n",
       "\n",
       "    .dataframe thead th {\n",
       "        text-align: right;\n",
       "    }\n",
       "</style>\n",
       "<table border=\"1\" class=\"dataframe\">\n",
       "  <thead>\n",
       "    <tr style=\"text-align: right;\">\n",
       "      <th></th>\n",
       "      <th>Latitude</th>\n",
       "      <th>Longitude</th>\n",
       "    </tr>\n",
       "  </thead>\n",
       "  <tbody>\n",
       "    <tr>\n",
       "      <td>count</td>\n",
       "      <td>29055.000000</td>\n",
       "      <td>29055.000000</td>\n",
       "    </tr>\n",
       "    <tr>\n",
       "      <td>mean</td>\n",
       "      <td>52.077413</td>\n",
       "      <td>5.233738</td>\n",
       "    </tr>\n",
       "    <tr>\n",
       "      <td>std</td>\n",
       "      <td>0.529786</td>\n",
       "      <td>0.760728</td>\n",
       "    </tr>\n",
       "    <tr>\n",
       "      <td>min</td>\n",
       "      <td>50.755089</td>\n",
       "      <td>3.363958</td>\n",
       "    </tr>\n",
       "    <tr>\n",
       "      <td>25%</td>\n",
       "      <td>51.748478</td>\n",
       "      <td>4.663847</td>\n",
       "    </tr>\n",
       "    <tr>\n",
       "      <td>50%</td>\n",
       "      <td>52.087704</td>\n",
       "      <td>5.090103</td>\n",
       "    </tr>\n",
       "    <tr>\n",
       "      <td>75%</td>\n",
       "      <td>52.369291</td>\n",
       "      <td>5.829936</td>\n",
       "    </tr>\n",
       "    <tr>\n",
       "      <td>max</td>\n",
       "      <td>53.497267</td>\n",
       "      <td>7.218729</td>\n",
       "    </tr>\n",
       "  </tbody>\n",
       "</table>\n",
       "</div>"
      ],
      "text/plain": [
       "           Latitude     Longitude\n",
       "count  29055.000000  29055.000000\n",
       "mean      52.077413      5.233738\n",
       "std        0.529786      0.760728\n",
       "min       50.755089      3.363958\n",
       "25%       51.748478      4.663847\n",
       "50%       52.087704      5.090103\n",
       "75%       52.369291      5.829936\n",
       "max       53.497267      7.218729"
      ]
     },
     "execution_count": 6,
     "metadata": {},
     "output_type": "execute_result"
    }
   ],
   "source": [
    "data = pd.read_excel(r\"C:\\Users\\bartd\\Erasmus\\Erasmus_\\Jaar 4\\Master Econometrie\\Seminar\\UnileverCase\\Data\\UFS_Universe_NL.xlsx\")\n",
    "data.describe()"
   ]
  },
  {
   "cell_type": "code",
   "execution_count": 10,
   "metadata": {},
   "outputs": [
    {
     "data": {
      "text/plain": [
       "Index(['operatorId', 'name', 'address', 'postalCode', 'city', 'Latitude',\n",
       "       'Longitude', 'globalChannel', 'cuisineType', 'closed'],\n",
       "      dtype='object')"
      ]
     },
     "execution_count": 10,
     "metadata": {},
     "output_type": "execute_result"
    }
   ],
   "source": [
    "data.columns"
   ]
  },
  {
   "cell_type": "code",
   "execution_count": 12,
   "metadata": {},
   "outputs": [
    {
     "name": "stdout",
     "output_type": "stream",
     "text": [
      "<class 'pandas.core.frame.DataFrame'>\n",
      "RangeIndex: 29055 entries, 0 to 29054\n",
      "Data columns (total 10 columns):\n",
      "operatorId       29055 non-null object\n",
      "name             29055 non-null object\n",
      "address          29055 non-null object\n",
      "postalCode       29046 non-null object\n",
      "city             29040 non-null object\n",
      "Latitude         29055 non-null float64\n",
      "Longitude        29055 non-null float64\n",
      "globalChannel    29055 non-null object\n",
      "cuisineType      29055 non-null object\n",
      "closed           24281 non-null object\n",
      "dtypes: float64(2), object(8)\n",
      "memory usage: 1.3+ MB\n"
     ]
    }
   ],
   "source": [
    "data.info()"
   ]
  },
  {
   "cell_type": "code",
   "execution_count": 14,
   "metadata": {},
   "outputs": [
    {
     "ename": "NameError",
     "evalue": "name 'mc_df' is not defined",
     "traceback": [
      "\u001b[1;31m---------------------------------------------------------------------------\u001b[0m",
      "\u001b[1;31mNameError\u001b[0m                                 Traceback (most recent call last)",
      "\u001b[1;32m<ipython-input-14-ad3dfb9daa0e>\u001b[0m in \u001b[0;36m<module>\u001b[1;34m\u001b[0m\n\u001b[1;32m----> 1\u001b[1;33m \u001b[0mmissing_data\u001b[0m \u001b[1;33m=\u001b[0m \u001b[0mpd\u001b[0m\u001b[1;33m.\u001b[0m\u001b[0mDataFrame\u001b[0m\u001b[1;33m(\u001b[0m\u001b[1;33m{\u001b[0m\u001b[1;34m'total_missing'\u001b[0m\u001b[1;33m:\u001b[0m \u001b[0mdata\u001b[0m\u001b[1;33m.\u001b[0m\u001b[0misnull\u001b[0m\u001b[1;33m(\u001b[0m\u001b[1;33m)\u001b[0m\u001b[1;33m.\u001b[0m\u001b[0msum\u001b[0m\u001b[1;33m(\u001b[0m\u001b[1;33m)\u001b[0m\u001b[1;33m,\u001b[0m \u001b[1;34m'perc_missing'\u001b[0m\u001b[1;33m:\u001b[0m \u001b[1;33m(\u001b[0m\u001b[0mmc_df\u001b[0m\u001b[1;33m.\u001b[0m\u001b[0misnull\u001b[0m\u001b[1;33m(\u001b[0m\u001b[1;33m)\u001b[0m\u001b[1;33m.\u001b[0m\u001b[0msum\u001b[0m\u001b[1;33m(\u001b[0m\u001b[1;33m)\u001b[0m\u001b[1;33m/\u001b[0m\u001b[0mlen\u001b[0m\u001b[1;33m(\u001b[0m\u001b[0mdata\u001b[0m\u001b[1;33m)\u001b[0m\u001b[1;33m)\u001b[0m\u001b[1;33m*\u001b[0m\u001b[1;36m100\u001b[0m\u001b[1;33m}\u001b[0m\u001b[1;33m)\u001b[0m\u001b[1;33m\u001b[0m\u001b[1;33m\u001b[0m\u001b[0m\n\u001b[0m\u001b[0;32m      2\u001b[0m \u001b[0mmissing_data\u001b[0m\u001b[1;33m\u001b[0m\u001b[1;33m\u001b[0m\u001b[0m\n",
      "\u001b[1;31mNameError\u001b[0m: name 'mc_df' is not defined"
     ],
     "output_type": "error"
    }
   ],
   "source": [
    "missing_data = pd.DataFrame({'total_missing': data.isnull().sum(), 'perc_missing': (data.isnull().sum()/len(data))*100})\n",
    "missing_data"
   ]
  },
  {
   "cell_type": "code",
   "execution_count": 30,
   "metadata": {},
   "outputs": [],
   "source": [
    "import pandas as pd\n",
    "import numpy as np"
   ]
  },
  {
   "cell_type": "code",
   "execution_count": 31,
   "metadata": {},
   "outputs": [
    {
     "data": {
      "text/html": [
       "<div>\n",
       "<style scoped>\n",
       "    .dataframe tbody tr th:only-of-type {\n",
       "        vertical-align: middle;\n",
       "    }\n",
       "\n",
       "    .dataframe tbody tr th {\n",
       "        vertical-align: top;\n",
       "    }\n",
       "\n",
       "    .dataframe thead th {\n",
       "        text-align: right;\n",
       "    }\n",
       "</style>\n",
       "<table border=\"1\" class=\"dataframe\">\n",
       "  <thead>\n",
       "    <tr style=\"text-align: right;\">\n",
       "      <th></th>\n",
       "      <th>operatorId</th>\n",
       "      <th>name</th>\n",
       "      <th>address</th>\n",
       "      <th>postalCode</th>\n",
       "      <th>city</th>\n",
       "      <th>Latitude</th>\n",
       "      <th>Longitude</th>\n",
       "      <th>globalChannel</th>\n",
       "      <th>cuisineType</th>\n",
       "      <th>closed</th>\n",
       "    </tr>\n",
       "  </thead>\n",
       "  <tbody>\n",
       "    <tr>\n",
       "      <td>0</td>\n",
       "      <td>/ ChIJ--0P4kpLx0cRO2iA0Sf6ZkY /</td>\n",
       "      <td>'t Brunke</td>\n",
       "      <td>Sint Nicolaasstraat 2, 6041 EH Roermond, Nethe...</td>\n",
       "      <td>6041 EH</td>\n",
       "      <td>Roermond</td>\n",
       "      <td>51.195881</td>\n",
       "      <td>5.984512</td>\n",
       "      <td>Cafe</td>\n",
       "      <td>Unknown</td>\n",
       "      <td>OPERATIONAL</td>\n",
       "    </tr>\n",
       "    <tr>\n",
       "      <td>1</td>\n",
       "      <td>2795484429 / ChIJ--17ntTjxUcR7UDCPpIqMWE /</td>\n",
       "      <td>Enfes</td>\n",
       "      <td>Pieter Calandlaan</td>\n",
       "      <td>1068NH</td>\n",
       "      <td>Amsterdam</td>\n",
       "      <td>52.353989</td>\n",
       "      <td>4.810633</td>\n",
       "      <td>Fast food restaurant</td>\n",
       "      <td>Unknown</td>\n",
       "      <td>OPERATIONAL</td>\n",
       "    </tr>\n",
       "    <tr>\n",
       "      <td>2</td>\n",
       "      <td>/ ChIJ--3jn-IkyEcRh88iTuMs7BA /</td>\n",
       "      <td>de Bakker &amp; de Schenker</td>\n",
       "      <td>Brink 15, 9401 HT Assen, Netherlands</td>\n",
       "      <td>9401 HT</td>\n",
       "      <td>Assen</td>\n",
       "      <td>52.994075</td>\n",
       "      <td>6.562568</td>\n",
       "      <td>Other Restaurant</td>\n",
       "      <td>Unknown</td>\n",
       "      <td>OPERATIONAL</td>\n",
       "    </tr>\n",
       "    <tr>\n",
       "      <td>3</td>\n",
       "      <td>3000334749 / ChIJ--KqKRR5xkcRQBF8Ghfl6Qg /</td>\n",
       "      <td>Theetuin De Kwakel</td>\n",
       "      <td>Noord-Linschoterzandweg</td>\n",
       "      <td>3425EL</td>\n",
       "      <td>Snelrewaard</td>\n",
       "      <td>52.029636</td>\n",
       "      <td>4.881653</td>\n",
       "      <td>Cafe</td>\n",
       "      <td>Unknown</td>\n",
       "      <td>OPERATIONAL</td>\n",
       "    </tr>\n",
       "    <tr>\n",
       "      <td>4</td>\n",
       "      <td>/ ChIJ--aBe7kJxkcRj3waPQO288U / eb7015b6-a137...</td>\n",
       "      <td>Restaurant Looks</td>\n",
       "      <td>Binnen Bantammerstraat 7, 1011 CH Amsterdam, N...</td>\n",
       "      <td>1011 CH</td>\n",
       "      <td>Amsterdam</td>\n",
       "      <td>52.373925</td>\n",
       "      <td>4.902064</td>\n",
       "      <td>Other Restaurant</td>\n",
       "      <td>Unknown</td>\n",
       "      <td>CLOSED_PERMANENTLY</td>\n",
       "    </tr>\n",
       "  </tbody>\n",
       "</table>\n",
       "</div>"
      ],
      "text/plain": [
       "                                          operatorId                     name  \\\n",
       "0                   / ChIJ--0P4kpLx0cRO2iA0Sf6ZkY /                 't Brunke   \n",
       "1        2795484429 / ChIJ--17ntTjxUcR7UDCPpIqMWE /                     Enfes   \n",
       "2                   / ChIJ--3jn-IkyEcRh88iTuMs7BA /   de Bakker & de Schenker   \n",
       "3        3000334749 / ChIJ--KqKRR5xkcRQBF8Ghfl6Qg /        Theetuin De Kwakel   \n",
       "4   / ChIJ--aBe7kJxkcRj3waPQO288U / eb7015b6-a137...         Restaurant Looks   \n",
       "\n",
       "                                             address postalCode         city  \\\n",
       "0  Sint Nicolaasstraat 2, 6041 EH Roermond, Nethe...    6041 EH     Roermond   \n",
       "1                                  Pieter Calandlaan     1068NH    Amsterdam   \n",
       "2               Brink 15, 9401 HT Assen, Netherlands    9401 HT        Assen   \n",
       "3                            Noord-Linschoterzandweg     3425EL  Snelrewaard   \n",
       "4  Binnen Bantammerstraat 7, 1011 CH Amsterdam, N...    1011 CH    Amsterdam   \n",
       "\n",
       "    Latitude  Longitude         globalChannel cuisineType              closed  \n",
       "0  51.195881   5.984512                  Cafe     Unknown         OPERATIONAL  \n",
       "1  52.353989   4.810633  Fast food restaurant     Unknown         OPERATIONAL  \n",
       "2  52.994075   6.562568      Other Restaurant     Unknown         OPERATIONAL  \n",
       "3  52.029636   4.881653                  Cafe     Unknown         OPERATIONAL  \n",
       "4  52.373925   4.902064      Other Restaurant     Unknown  CLOSED_PERMANENTLY  "
      ]
     },
     "execution_count": 31,
     "metadata": {},
     "output_type": "execute_result"
    }
   ],
   "source": [
    "#READ DATA\n",
    "data = pd.read_excel(r\"C:\\Users\\bartd\\Erasmus\\Erasmus_\\Jaar 4\\Master Econometrie\\Seminar\\UnileverCase\\Data\\UFS_Universe_NL.xlsx\")\n",
    "data.head()"
   ]
  },
  {
   "cell_type": "code",
   "execution_count": 32,
   "metadata": {},
   "outputs": [
    {
     "data": {
      "text/plain": [
       "Index(['operatorId', 'name', 'address', 'postalCode', 'city', 'Latitude',\n",
       "       'Longitude', 'globalChannel', 'cuisineType', 'closed'],\n",
       "      dtype='object')"
      ]
     },
     "execution_count": 32,
     "metadata": {},
     "output_type": "execute_result"
    }
   ],
   "source": [
    "#See different columns\n",
    "data.columns"
   ]
  },
  {
   "cell_type": "code",
   "execution_count": 33,
   "metadata": {
    "scrolled": true
   },
   "outputs": [
    {
     "name": "stdout",
     "output_type": "stream",
     "text": [
      "<class 'pandas.core.frame.DataFrame'>\n",
      "RangeIndex: 29055 entries, 0 to 29054\n",
      "Data columns (total 10 columns):\n",
      "operatorId       29055 non-null object\n",
      "name             29055 non-null object\n",
      "address          29055 non-null object\n",
      "postalCode       29046 non-null object\n",
      "city             29040 non-null object\n",
      "Latitude         29055 non-null float64\n",
      "Longitude        29055 non-null float64\n",
      "globalChannel    29055 non-null object\n",
      "cuisineType      29055 non-null object\n",
      "closed           24281 non-null object\n",
      "dtypes: float64(2), object(8)\n",
      "memory usage: 1.3+ MB\n"
     ]
    }
   ],
   "source": [
    "#Check Datatypes\n",
    "data.info()"
   ]
  },
  {
   "cell_type": "code",
   "execution_count": 34,
   "metadata": {},
   "outputs": [],
   "source": [
    "#Sure that we won't need this...\n",
    "data.set_index('name', drop = True, inplace= True)\n",
    "data.drop(columns = ['operatorId'], inplace = True)"
   ]
  },
  {
   "cell_type": "code",
   "execution_count": 35,
   "metadata": {},
   "outputs": [],
   "source": [
    "#Closed is categorical variable\n",
    "data.closed = data.closed.astype('category')"
   ]
  },
  {
   "cell_type": "code",
   "execution_count": 36,
   "metadata": {},
   "outputs": [
    {
     "name": "stdout",
     "output_type": "stream",
     "text": [
      "<class 'pandas.core.frame.DataFrame'>\n",
      "Index: 29055 entries, 't Brunke to Steinbusch / L H E\n",
      "Data columns (total 8 columns):\n",
      "address          29055 non-null object\n",
      "postalCode       29046 non-null object\n",
      "city             29040 non-null object\n",
      "Latitude         29055 non-null float64\n",
      "Longitude        29055 non-null float64\n",
      "globalChannel    29055 non-null object\n",
      "cuisineType      29055 non-null object\n",
      "closed           24281 non-null category\n",
      "dtypes: category(1), float64(2), object(5)\n",
      "memory usage: 1.1+ MB\n"
     ]
    }
   ],
   "source": [
    "data.info()"
   ]
  },
  {
   "cell_type": "code",
   "execution_count": 37,
   "metadata": {},
   "outputs": [
    {
     "name": "stdout",
     "output_type": "stream",
     "text": [
      "['Cafe' 'Fast food restaurant' 'Other Restaurant' 'Wine Bar' 'Bistro'\n",
      " 'Retail Bakery' 'Strandtent' 'Bar' 'Pizzeria' 'Pannenkoekenhuis'\n",
      " 'Tea Shops' 'Burger restaurant' 'Food delivery restaurant' 'Snackbar'\n",
      " 'Steakhouse']\n",
      "['Unknown' 'african' 'italian' 'greek' 'indonesian' 'chinese' 'mexican'\n",
      " 'indian' 'japanese' 'shoarma; italian' 'shoarma' 'thai'\n",
      " 'vietnamese; japanese' 'afghan' 'korean; thai' 'kebab'\n",
      " 'japanese; chinese' 'turkish' 'moroccan' 'vietnamese; thai; chinese'\n",
      " 'peruvian' 'nepal; greek' 'spanish' 'vietnamese; chinese'\n",
      " 'italian; mexican' 'thai; chinese' 'vietnamese' 'nepal'\n",
      " 'korean; japanese' 'shoarma; kebab' 'german' 'korean' 'indian; kebab'\n",
      " 'turkish; kebab' 'turkish; mexican' 'indian; afghan' 'korean; chinese'\n",
      " 'turkish; italian' 'turkish; italian; kebab' 'shoarma; spanish'\n",
      " 'indonesian; chinese' 'italian; kebab' 'italian; greek' 'thai; italian'\n",
      " 'kebab; mexican']\n",
      "[OPERATIONAL, CLOSED_PERMANENTLY, NaN, CLOSED_TEMPORARILY]\n",
      "Categories (3, object): [OPERATIONAL, CLOSED_PERMANENTLY, CLOSED_TEMPORARILY]\n"
     ]
    }
   ],
   "source": [
    "#What kind of missing values are there?\n",
    "for column in ['globalChannel', 'cuisineType', 'closed']:\n",
    "    print(data.loc[:, column].unique())\n",
    "    \n",
    "#For globalChannel we might say that other restaurant is unknown\n",
    "#For cuisineType Unkown is the missing value\n",
    "#For closed nan is the missing value\n",
    "# data = data.replace(['Unknown', 'Other Restaurant' ], np.nan)"
   ]
  },
  {
   "cell_type": "code",
   "execution_count": 41,
   "metadata": {},
   "outputs": [
    {
     "data": {
      "text/html": [
       "<div>\n",
       "<style scoped>\n",
       "    .dataframe tbody tr th:only-of-type {\n",
       "        vertical-align: middle;\n",
       "    }\n",
       "\n",
       "    .dataframe tbody tr th {\n",
       "        vertical-align: top;\n",
       "    }\n",
       "\n",
       "    .dataframe thead th {\n",
       "        text-align: right;\n",
       "    }\n",
       "</style>\n",
       "<table border=\"1\" class=\"dataframe\">\n",
       "  <thead>\n",
       "    <tr style=\"text-align: right;\">\n",
       "      <th></th>\n",
       "      <th>total_missing</th>\n",
       "      <th>perc_missing</th>\n",
       "    </tr>\n",
       "  </thead>\n",
       "  <tbody>\n",
       "    <tr>\n",
       "      <td>address</td>\n",
       "      <td>0</td>\n",
       "      <td>0.000000</td>\n",
       "    </tr>\n",
       "    <tr>\n",
       "      <td>postalCode</td>\n",
       "      <td>0</td>\n",
       "      <td>0.000000</td>\n",
       "    </tr>\n",
       "    <tr>\n",
       "      <td>city</td>\n",
       "      <td>0</td>\n",
       "      <td>0.000000</td>\n",
       "    </tr>\n",
       "    <tr>\n",
       "      <td>Latitude</td>\n",
       "      <td>0</td>\n",
       "      <td>0.000000</td>\n",
       "    </tr>\n",
       "    <tr>\n",
       "      <td>Longitude</td>\n",
       "      <td>0</td>\n",
       "      <td>0.000000</td>\n",
       "    </tr>\n",
       "    <tr>\n",
       "      <td>globalChannel</td>\n",
       "      <td>16157</td>\n",
       "      <td>66.580129</td>\n",
       "    </tr>\n",
       "    <tr>\n",
       "      <td>cuisineType</td>\n",
       "      <td>22758</td>\n",
       "      <td>93.781679</td>\n",
       "    </tr>\n",
       "    <tr>\n",
       "      <td>closed</td>\n",
       "      <td>0</td>\n",
       "      <td>0.000000</td>\n",
       "    </tr>\n",
       "  </tbody>\n",
       "</table>\n",
       "</div>"
      ],
      "text/plain": [
       "               total_missing  perc_missing\n",
       "address                    0      0.000000\n",
       "postalCode                 0      0.000000\n",
       "city                       0      0.000000\n",
       "Latitude                   0      0.000000\n",
       "Longitude                  0      0.000000\n",
       "globalChannel          16157     66.580129\n",
       "cuisineType            22758     93.781679\n",
       "closed                     0      0.000000"
      ]
     },
     "execution_count": 41,
     "metadata": {},
     "output_type": "execute_result"
    }
   ],
   "source": [
    "#How much missing data is there?\n",
    "missing_obs = data.isin([np.nan,'Unknown', 'Other Restaurant']).sum()\n",
    "missing_data = pd.DataFrame({'total_missing':missing_obs, 'perc_missing': (missing_obs/len(data))*100})\n",
    "missing_data"
   ]
  },
  {
   "cell_type": "code",
   "execution_count": 39,
   "metadata": {},
   "outputs": [],
   "source": [
    "#Observations without dependent variable are copmletely useless\n",
    "data = data[data['closed'].notna()]"
   ]
  },
  {
   "cell_type": "code",
   "execution_count": 40,
   "metadata": {},
   "outputs": [
    {
     "name": "stdout",
     "output_type": "stream",
     "text": [
      "name\n",
      "AVRAM                 NaN\n",
      "VOF Het Hapje         NaN\n",
      "Sultanim Döner        NaN\n",
      "CAFE H. HEUTINCK      NaN\n",
      "Metro Döner           NaN\n",
      "CHINA - GARDEN        NaN\n",
      "Restaurant Robuust    NaN\n",
      "Cafe De Wolthoorn     NaN\n",
      "Name: postalCode, dtype: object\n",
      "name\n",
      "Columbus automatisering                  NaN\n",
      "nationaal militair museum                NaN\n",
      "Café de Pub                              NaN\n",
      "Restaurant Feestzaal In den Wijngaard    NaN\n",
      "GaiaZoo Kerkrade                         NaN\n",
      "Friterie Par Hasard                      NaN\n",
      "Name: city, dtype: object\n"
     ]
    }
   ],
   "source": [
    "#Shows restaurants that don't have postal code nor City adress\n",
    "print(data.postalCode[data.postalCode.isna()])\n",
    "print(data.city[data.city.isna()])\n",
    "data = data[data.postalCode.notna()]\n",
    "data = data[data.city.notna()]"
   ]
  },
  {
   "cell_type": "code",
   "execution_count": 42,
   "metadata": {},
   "outputs": [
    {
     "name": "stdout",
     "output_type": "stream",
     "text": [
      "Other Restaurant            16157\n",
      "Cafe                         4314\n",
      "Retail Bakery                1552\n",
      "Bar                           978\n",
      "Fast food restaurant          624\n",
      "Pizzeria                      325\n",
      "Burger restaurant             173\n",
      "Food delivery restaurant      130\n",
      "Bistro                         11\n",
      "Pannenkoekenhuis                3\n",
      "Name: globalChannel, dtype: int64\n"
     ]
    }
   ],
   "source": [
    "#Recategorize global channel and onehotencode it\n",
    "print(data.loc[:, 'globalChannel'].value_counts())"
   ]
  },
  {
   "cell_type": "code",
   "execution_count": 43,
   "metadata": {},
   "outputs": [],
   "source": [
    "#Make categories\n",
    "no_dining = ['Retail Bakery', 'Cafe', 'Bar', 'Wine Bar']\n",
    "fastfood = ['Food delivery restaurant', 'Fast food restaurant']\n",
    "other = ['Other Restaurant', 'Bistro', 'Pannenkoekenhuis']"
   ]
  },
  {
   "cell_type": "code",
   "execution_count": 44,
   "metadata": {},
   "outputs": [],
   "source": [
    "#Create new variable with new categories\n",
    "data.loc[data.globalChannel.isin(no_dining),'globalChannelShort'] = 'no_dining'\n",
    "data.loc[data.globalChannel.isin(fastfood),'globalChannelShort'] ='fastfood'\n",
    "data.loc[data.globalChannel.isin(other),'globalChannelShort'] = 'other'"
   ]
  },
  {
   "cell_type": "code",
   "execution_count": 45,
   "metadata": {},
   "outputs": [
    {
     "data": {
      "text/html": [
       "<div>\n",
       "<style scoped>\n",
       "    .dataframe tbody tr th:only-of-type {\n",
       "        vertical-align: middle;\n",
       "    }\n",
       "\n",
       "    .dataframe tbody tr th {\n",
       "        vertical-align: top;\n",
       "    }\n",
       "\n",
       "    .dataframe thead th {\n",
       "        text-align: right;\n",
       "    }\n",
       "</style>\n",
       "<table border=\"1\" class=\"dataframe\">\n",
       "  <thead>\n",
       "    <tr style=\"text-align: right;\">\n",
       "      <th></th>\n",
       "      <th>address</th>\n",
       "      <th>postalCode</th>\n",
       "      <th>city</th>\n",
       "      <th>Latitude</th>\n",
       "      <th>Longitude</th>\n",
       "      <th>globalChannel</th>\n",
       "      <th>cuisineType</th>\n",
       "      <th>closed</th>\n",
       "      <th>globalChannel_fastfood</th>\n",
       "      <th>globalChannel_no_dining</th>\n",
       "      <th>globalChannel_other</th>\n",
       "    </tr>\n",
       "    <tr>\n",
       "      <th>name</th>\n",
       "      <th></th>\n",
       "      <th></th>\n",
       "      <th></th>\n",
       "      <th></th>\n",
       "      <th></th>\n",
       "      <th></th>\n",
       "      <th></th>\n",
       "      <th></th>\n",
       "      <th></th>\n",
       "      <th></th>\n",
       "      <th></th>\n",
       "    </tr>\n",
       "  </thead>\n",
       "  <tbody>\n",
       "    <tr>\n",
       "      <td>'t Brunke</td>\n",
       "      <td>Sint Nicolaasstraat 2, 6041 EH Roermond, Nethe...</td>\n",
       "      <td>6041 EH</td>\n",
       "      <td>Roermond</td>\n",
       "      <td>51.195881</td>\n",
       "      <td>5.984512</td>\n",
       "      <td>Cafe</td>\n",
       "      <td>Unknown</td>\n",
       "      <td>OPERATIONAL</td>\n",
       "      <td>0</td>\n",
       "      <td>1</td>\n",
       "      <td>0</td>\n",
       "    </tr>\n",
       "    <tr>\n",
       "      <td>Enfes</td>\n",
       "      <td>Pieter Calandlaan</td>\n",
       "      <td>1068NH</td>\n",
       "      <td>Amsterdam</td>\n",
       "      <td>52.353989</td>\n",
       "      <td>4.810633</td>\n",
       "      <td>Fast food restaurant</td>\n",
       "      <td>Unknown</td>\n",
       "      <td>OPERATIONAL</td>\n",
       "      <td>1</td>\n",
       "      <td>0</td>\n",
       "      <td>0</td>\n",
       "    </tr>\n",
       "    <tr>\n",
       "      <td>de Bakker &amp; de Schenker</td>\n",
       "      <td>Brink 15, 9401 HT Assen, Netherlands</td>\n",
       "      <td>9401 HT</td>\n",
       "      <td>Assen</td>\n",
       "      <td>52.994075</td>\n",
       "      <td>6.562568</td>\n",
       "      <td>Other Restaurant</td>\n",
       "      <td>Unknown</td>\n",
       "      <td>OPERATIONAL</td>\n",
       "      <td>0</td>\n",
       "      <td>0</td>\n",
       "      <td>1</td>\n",
       "    </tr>\n",
       "    <tr>\n",
       "      <td>Theetuin De Kwakel</td>\n",
       "      <td>Noord-Linschoterzandweg</td>\n",
       "      <td>3425EL</td>\n",
       "      <td>Snelrewaard</td>\n",
       "      <td>52.029636</td>\n",
       "      <td>4.881653</td>\n",
       "      <td>Cafe</td>\n",
       "      <td>Unknown</td>\n",
       "      <td>OPERATIONAL</td>\n",
       "      <td>0</td>\n",
       "      <td>1</td>\n",
       "      <td>0</td>\n",
       "    </tr>\n",
       "    <tr>\n",
       "      <td>Restaurant Looks</td>\n",
       "      <td>Binnen Bantammerstraat 7, 1011 CH Amsterdam, N...</td>\n",
       "      <td>1011 CH</td>\n",
       "      <td>Amsterdam</td>\n",
       "      <td>52.373925</td>\n",
       "      <td>4.902064</td>\n",
       "      <td>Other Restaurant</td>\n",
       "      <td>Unknown</td>\n",
       "      <td>CLOSED_PERMANENTLY</td>\n",
       "      <td>0</td>\n",
       "      <td>0</td>\n",
       "      <td>1</td>\n",
       "    </tr>\n",
       "  </tbody>\n",
       "</table>\n",
       "</div>"
      ],
      "text/plain": [
       "                                                                   address  \\\n",
       "name                                                                         \n",
       "'t Brunke                Sint Nicolaasstraat 2, 6041 EH Roermond, Nethe...   \n",
       "Enfes                                                    Pieter Calandlaan   \n",
       "de Bakker & de Schenker               Brink 15, 9401 HT Assen, Netherlands   \n",
       "Theetuin De Kwakel                                 Noord-Linschoterzandweg   \n",
       "Restaurant Looks         Binnen Bantammerstraat 7, 1011 CH Amsterdam, N...   \n",
       "\n",
       "                        postalCode         city   Latitude  Longitude  \\\n",
       "name                                                                    \n",
       "'t Brunke                  6041 EH     Roermond  51.195881   5.984512   \n",
       "Enfes                       1068NH    Amsterdam  52.353989   4.810633   \n",
       "de Bakker & de Schenker    9401 HT        Assen  52.994075   6.562568   \n",
       "Theetuin De Kwakel          3425EL  Snelrewaard  52.029636   4.881653   \n",
       "Restaurant Looks           1011 CH    Amsterdam  52.373925   4.902064   \n",
       "\n",
       "                                globalChannel cuisineType              closed  \\\n",
       "name                                                                            \n",
       "'t Brunke                                Cafe     Unknown         OPERATIONAL   \n",
       "Enfes                    Fast food restaurant     Unknown         OPERATIONAL   \n",
       "de Bakker & de Schenker      Other Restaurant     Unknown         OPERATIONAL   \n",
       "Theetuin De Kwakel                       Cafe     Unknown         OPERATIONAL   \n",
       "Restaurant Looks             Other Restaurant     Unknown  CLOSED_PERMANENTLY   \n",
       "\n",
       "                         globalChannel_fastfood  globalChannel_no_dining  \\\n",
       "name                                                                       \n",
       "'t Brunke                                     0                        1   \n",
       "Enfes                                         1                        0   \n",
       "de Bakker & de Schenker                       0                        0   \n",
       "Theetuin De Kwakel                            0                        1   \n",
       "Restaurant Looks                              0                        0   \n",
       "\n",
       "                         globalChannel_other  \n",
       "name                                          \n",
       "'t Brunke                                  0  \n",
       "Enfes                                      0  \n",
       "de Bakker & de Schenker                    1  \n",
       "Theetuin De Kwakel                         0  \n",
       "Restaurant Looks                           1  "
      ]
     },
     "execution_count": 45,
     "metadata": {},
     "output_type": "execute_result"
    }
   ],
   "source": [
    "#One hot encode\n",
    "data.globalChannelShort = data.globalChannelShort.astype('category')\n",
    "data = pd.get_dummies(data, columns = ['globalChannelShort'], prefix = ['globalChannel'])\n",
    "\n",
    "data.head()"
   ]
  },
  {
   "cell_type": "code",
   "execution_count": 47,
   "metadata": {},
   "outputs": [
    {
     "name": "stdout",
     "output_type": "stream",
     "text": [
      "0\n",
      "address                    0000 ZZ Rotterdam, Netherlands\n",
      "postalCode                                        0000 ZZ\n",
      "city                                            Rotterdam\n",
      "Latitude                                          51.8821\n",
      "Longitude                                         4.54989\n",
      "globalChannel                            Other Restaurant\n",
      "cuisineType                                       Unknown\n",
      "closed                                 CLOSED_PERMANENTLY\n",
      "globalChannel_fastfood                                  0\n",
      "globalChannel_no_dining                                 0\n",
      "globalChannel_other                                     1\n",
      "pc4                                                     0\n",
      "Name: Dushi \\'Bon Dia\\' Caribische eetgelegenheid, dtype: object\n"
     ]
    }
   ],
   "source": [
    "data['pc4'] = data.postalCode.str.extract('(\\d+)').astype(int) #obtain postcode column \n",
    "\n",
    "#Check if every postcode is four elements\n",
    "# [len(zipcode) for zipcode in data.pc4]\n",
    "for index, zipcode in data.pc4.items():\n",
    "    try:\n",
    "        if len(str(zipcode))!= 4:\n",
    "            print(zipcode)\n",
    "            print(data.loc[index, :])\n",
    "    except:\n",
    "        print(zipcode)"
   ]
  }
 ],
 "metadata": {
  "kernelspec": {
   "display_name": "Python 3",
   "language": "python",
   "name": "python3"
  },
  "language_info": {
   "codemirror_mode": {
    "name": "ipython",
    "version": 3
   },
   "file_extension": ".py",
   "mimetype": "text/x-python",
   "name": "python",
   "nbconvert_exporter": "python",
   "pygments_lexer": "ipython3",
   "version": "3.7.4"
  }
 },
 "nbformat": 4,
 "nbformat_minor": 1
}
